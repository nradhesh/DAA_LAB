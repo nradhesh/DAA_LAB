{
 "cells": [
  {
   "cell_type": "code",
   "execution_count": 10,
   "id": "e50e3c40-e56e-4abb-808b-d4711157d46c",
   "metadata": {},
   "outputs": [
    {
     "name": "stdout",
     "output_type": "stream",
     "text": [
      "bw  0  and  0\n"
     ]
    },
    {
     "name": "stdin",
     "output_type": "stream",
     "text": [
      "enter yes 1 no as 0 1\n"
     ]
    },
    {
     "name": "stdout",
     "output_type": "stream",
     "text": [
      "bw  0  and  1\n"
     ]
    },
    {
     "name": "stdin",
     "output_type": "stream",
     "text": [
      "enter yes 1 no as 0 1\n"
     ]
    },
    {
     "name": "stdout",
     "output_type": "stream",
     "text": [
      "bw  0  and  2\n"
     ]
    },
    {
     "name": "stdin",
     "output_type": "stream",
     "text": [
      "enter yes 1 no as 0 1\n"
     ]
    },
    {
     "name": "stdout",
     "output_type": "stream",
     "text": [
      "bw  1  and  0\n"
     ]
    },
    {
     "name": "stdin",
     "output_type": "stream",
     "text": [
      "enter yes 1 no as 0 1\n"
     ]
    },
    {
     "name": "stdout",
     "output_type": "stream",
     "text": [
      "bw  1  and  1\n"
     ]
    },
    {
     "name": "stdin",
     "output_type": "stream",
     "text": [
      "enter yes 1 no as 0 1\n"
     ]
    },
    {
     "name": "stdout",
     "output_type": "stream",
     "text": [
      "bw  1  and  2\n"
     ]
    },
    {
     "name": "stdin",
     "output_type": "stream",
     "text": [
      "enter yes 1 no as 0 1\n"
     ]
    },
    {
     "name": "stdout",
     "output_type": "stream",
     "text": [
      "bw  2  and  0\n"
     ]
    },
    {
     "name": "stdin",
     "output_type": "stream",
     "text": [
      "enter yes 1 no as 0 1\n"
     ]
    },
    {
     "name": "stdout",
     "output_type": "stream",
     "text": [
      "bw  2  and  1\n"
     ]
    },
    {
     "name": "stdin",
     "output_type": "stream",
     "text": [
      "enter yes 1 no as 0 1\n"
     ]
    },
    {
     "name": "stdout",
     "output_type": "stream",
     "text": [
      "bw  2  and  2\n"
     ]
    },
    {
     "name": "stdin",
     "output_type": "stream",
     "text": [
      "enter yes 1 no as 0 1\n"
     ]
    },
    {
     "name": "stdout",
     "output_type": "stream",
     "text": [
      "0\n",
      "1\n",
      "2\n"
     ]
    }
   ],
   "source": [
    "# DFS\n",
    "def dfs(node, graph, visited):\n",
    "    visited[node] = True\n",
    "    print(node)\n",
    "    for neighbour in range(len(graph[node])):\n",
    "        if graph[node][neighbour] == 1 and not visited[neighbour]:\n",
    "            dfs(neighbour, graph, visited)\n",
    "\n",
    "matrix = [[0 for i in range(3)] for j in range(3)]\n",
    "for i in range(3):\n",
    "    for j in range(3):\n",
    "        print(\"bw \" , i , \" and \" , j)\n",
    "        n = int(input(\"enter yes 1 no as 0\"))\n",
    "        matrix[i][j] = n\n",
    "n = len(matrix)\n",
    "\n",
    "dfs(0, matrix, [False] * n)\n"
   ]
  },
  {
   "cell_type": "code",
   "execution_count": 12,
   "id": "4ba0cd3a-dcf1-4c12-8bff-3ee7b2791efb",
   "metadata": {},
   "outputs": [
    {
     "name": "stdout",
     "output_type": "stream",
     "text": [
      "bw  0  and  0\n"
     ]
    },
    {
     "name": "stdin",
     "output_type": "stream",
     "text": [
      "enter yes 1 no as 0 1\n"
     ]
    },
    {
     "name": "stdout",
     "output_type": "stream",
     "text": [
      "bw  0  and  1\n"
     ]
    },
    {
     "name": "stdin",
     "output_type": "stream",
     "text": [
      "enter yes 1 no as 0 1\n"
     ]
    },
    {
     "name": "stdout",
     "output_type": "stream",
     "text": [
      "bw  0  and  2\n"
     ]
    },
    {
     "name": "stdin",
     "output_type": "stream",
     "text": [
      "enter yes 1 no as 0 1\n"
     ]
    },
    {
     "name": "stdout",
     "output_type": "stream",
     "text": [
      "bw  1  and  0\n"
     ]
    },
    {
     "name": "stdin",
     "output_type": "stream",
     "text": [
      "enter yes 1 no as 0 1\n"
     ]
    },
    {
     "name": "stdout",
     "output_type": "stream",
     "text": [
      "bw  1  and  1\n"
     ]
    },
    {
     "name": "stdin",
     "output_type": "stream",
     "text": [
      "enter yes 1 no as 0 1\n"
     ]
    },
    {
     "name": "stdout",
     "output_type": "stream",
     "text": [
      "bw  1  and  2\n"
     ]
    },
    {
     "name": "stdin",
     "output_type": "stream",
     "text": [
      "enter yes 1 no as 0 1\n"
     ]
    },
    {
     "name": "stdout",
     "output_type": "stream",
     "text": [
      "bw  2  and  0\n"
     ]
    },
    {
     "name": "stdin",
     "output_type": "stream",
     "text": [
      "enter yes 1 no as 0 1\n"
     ]
    },
    {
     "name": "stdout",
     "output_type": "stream",
     "text": [
      "bw  2  and  1\n"
     ]
    },
    {
     "name": "stdin",
     "output_type": "stream",
     "text": [
      "enter yes 1 no as 0 1\n"
     ]
    },
    {
     "name": "stdout",
     "output_type": "stream",
     "text": [
      "bw  2  and  2\n"
     ]
    },
    {
     "name": "stdin",
     "output_type": "stream",
     "text": [
      "enter yes 1 no as 0 1\n"
     ]
    },
    {
     "name": "stdout",
     "output_type": "stream",
     "text": [
      "0\n",
      "1\n",
      "2\n"
     ]
    }
   ],
   "source": [
    "#BFS\n",
    "from collections import deque\n",
    "\n",
    "def bfs( node , graph , visited):\n",
    "    queue = deque([node])\n",
    "    visited[node] = True\n",
    "    while queue:\n",
    "        node = queue.popleft()\n",
    "        print(node)\n",
    "        for neighbour in range(len(graph[node])):\n",
    "            if(graph[node][neighbour] ==1 and not visited[neighbour]):\n",
    "                queue.append(neighbour)\n",
    "                visited[neighbour] = True\n",
    "matrix = [[0 for i in range(3)] for j in range(3)]\n",
    "for i in range(3):\n",
    "    for j in range(3):\n",
    "        print(\"bw \" , i , \" and \" , j)\n",
    "        n = int(input(\"enter yes 1 no as 0\"))\n",
    "        matrix[i][j] = n\n",
    "n = len(matrix)\n",
    "\n",
    "bfs(0, matrix, [False] * n)"
   ]
  },
  {
   "cell_type": "code",
   "execution_count": 23,
   "id": "33043a3c-c039-4b79-aca5-0b546480e8ee",
   "metadata": {},
   "outputs": [
    {
     "name": "stdout",
     "output_type": "stream",
     "text": [
      "[3, 10, 27, 38, 43, 82]\n"
     ]
    }
   ],
   "source": [
    "#merge sort\n",
    "def mergesort(arr):\n",
    "    if(len(arr)<=1):\n",
    "        return arr\n",
    "    mid = len(arr)//2\n",
    "    left = mergesort(arr[:mid])\n",
    "    right = mergesort(arr[mid:])\n",
    "    return merge(left  , right)\n",
    "def merge(left , right):\n",
    "    res = []\n",
    "    i , j = 0,0\n",
    "    while i<len(left) and j< len(right):\n",
    "        if(left[i]<right[j]):\n",
    "            res.append(left[i])\n",
    "            i+=1\n",
    "        else:\n",
    "            res.append(right[j])\n",
    "            j+=1\n",
    "    res.extend(left[i:])\n",
    "    res.extend(right[j:])\n",
    "    return res\n",
    "arr = [38, 27, 43, 3, 82, 10]\n",
    "print(mergesort(arr))\n",
    "            "
   ]
  },
  {
   "cell_type": "code",
   "execution_count": 31,
   "id": "85192f4f-1f0c-43e0-be2c-ec417e85fa6e",
   "metadata": {},
   "outputs": [
    {
     "name": "stdout",
     "output_type": "stream",
     "text": [
      "Original array: [38, 27, 43, 3, 9, 82, 10]\n",
      "Sorted array: [3, 9, 10, 27, 38, 43, 82]\n"
     ]
    }
   ],
   "source": [
    "def quicksort(arr, low, high):\n",
    "    if low < high:\n",
    "        pivot_index = partition(arr, low, high)\n",
    "        quicksort(arr, low, pivot_index - 1)\n",
    "        quicksort(arr, pivot_index + 1, high)\n",
    "\n",
    "def partition(arr, low, high):\n",
    "    pivot = arr[low]\n",
    "    i = low\n",
    "    \n",
    "    for j in range(low + 1, high + 1):\n",
    "        if arr[j] <= pivot:\n",
    "            i += 1\n",
    "            arr[i], arr[j] = arr[j], arr[i]\n",
    "    \n",
    "    arr[low], arr[i] = arr[i], arr[low]\n",
    "    return i\n",
    "arr = [38, 27, 43, 3, 9, 82, 10]\n",
    "print(\"Original array:\", arr)\n",
    "quicksort(arr, 0, len(arr) - 1)\n",
    "print(\"Sorted array:\", arr)\n"
   ]
  },
  {
   "cell_type": "code",
   "execution_count": 45,
   "id": "d9e45dea-226c-48fc-ba34-e94168103c0d",
   "metadata": {},
   "outputs": [
    {
     "name": "stdout",
     "output_type": "stream",
     "text": [
      "Matching result (woman -> man): [1, 0, 2]\n"
     ]
    }
   ],
   "source": [
    "def gale_shapley(mpref, wpref):\n",
    "    n = len(mpref)\n",
    "    wpartner = [-1] * n\n",
    "    mnextpref = [0] * n\n",
    "    freem = list(range(n))\n",
    "    while freem:\n",
    "        m = freem.pop(0)\n",
    "        w = mpref[m][mnextpref[m]]\n",
    "        mnextpref[m] += 1\n",
    "        if wpartner[w] == -1:\n",
    "            wpartner[w] = m\n",
    "        else:\n",
    "            curpartner = wpartner[w]\n",
    "            if wpref[w].index(m) < wpref[w].index(curpartner):\n",
    "                wpartner[w] = m\n",
    "                freem.append(curpartner)\n",
    "    return wpartner\n",
    "men_prefs = [\n",
    "    [1, 0, 2],\n",
    "    [0, 1, 2],\n",
    "    [2, 0, 1]\n",
    "]\n",
    "women_prefs = [\n",
    "    [1, 0, 2],\n",
    "    [2, 1, 0],\n",
    "    [0, 2, 1]\n",
    "]\n",
    "\n",
    "matches = gale_shapley(men_prefs, women_prefs)\n",
    "print(\"Matching result (woman -> man):\", matches)"
   ]
  },
  {
   "cell_type": "code",
   "execution_count": 49,
   "id": "010f65b5-1255-4589-b923-130270e11844",
   "metadata": {},
   "outputs": [
    {
     "name": "stdout",
     "output_type": "stream",
     "text": [
      "6\n"
     ]
    }
   ],
   "source": [
    "#COUNTING INVERSIONS\n",
    "def mergesort(arr , n):\n",
    "    temp = [0]*n\n",
    "    return _mergesort(arr , temp , 0 , n-1)\n",
    "    \n",
    "def _mergesort(arr , temp , left , right):\n",
    "    invcount = 0\n",
    "    if left <right :\n",
    "        mid = (left +right)//2\n",
    "        invcount += _mergesort(arr , temp , left , mid)\n",
    "        invcount += _mergesort(arr , temp , mid+1 , right)\n",
    "        invcount += merge(arr , temp , left , mid , right)\n",
    "    return invcount\n",
    "def merge(arr , temp , left , mid , right):\n",
    "    i = left \n",
    "    j = mid+1\n",
    "    k = left\n",
    "    invcount =0\n",
    "    while i<=mid and j<=right:\n",
    "        if(arr[i] <= arr[j]):\n",
    "            temp[k] = arr[i]\n",
    "            k+=1\n",
    "            i+=1\n",
    "        else:\n",
    "            temp[k] = arr[j]\n",
    "            invcount+= (mid-i+1)\n",
    "            j+= 1\n",
    "            k+=1\n",
    "    temp.extend(arr[i:mid+1])\n",
    "    temp.extend(arr[j:right+1])\n",
    "    return invcount\n",
    "arr =[1, 20, 6, 7, 5]\n",
    "\n",
    "res = mergesort(arr , 5)\n",
    "print(res)"
   ]
  },
  {
   "cell_type": "code",
   "execution_count": 52,
   "id": "96d5f36e-e777-44c6-8423-b5a50dae9d6d",
   "metadata": {},
   "outputs": [
    {
     "name": "stdout",
     "output_type": "stream",
     "text": [
      "Minimum Spanning Tree:\n",
      "(0, 0)\n",
      "(1, 2)\n",
      "(2, 3)\n",
      "(4, 5)\n",
      "(3, 6)\n"
     ]
    }
   ],
   "source": [
    "#Prims algorithm\n",
    "import sys\n",
    "def prim(graph , n):\n",
    "    keys = [sys.maxsize]*n\n",
    "    mst = []\n",
    "    keys[0] = 0\n",
    "    visited = [False]*n\n",
    "    for i in range(n):\n",
    "        u = min((i for i in range(n) if not visited[i]),key=lambda x:keys[x])\n",
    "        visited[u] = True\n",
    "        if keys[u] != sys.maxsize:\n",
    "            mst.append((u , keys[u]))\n",
    "        for v in range(n):\n",
    "            if graph[u][v] > 0 and not visited[v] and graph[u][v] < keys[v] :\n",
    "                keys[v] = graph[u][v]\n",
    "    return mst\n",
    "graph = [\n",
    "    [0, 2, 0, 6, 0],\n",
    "    [2, 0, 3, 8, 5],\n",
    "    [0, 3, 0, 0, 7],\n",
    "    [6, 8, 0, 0, 9],\n",
    "    [0, 5, 7, 9, 0]\n",
    "]\n",
    "\n",
    "min_spanning_tree = prim(graph , 5)\n",
    "print(\"Minimum Spanning Tree:\")\n",
    "for edge in min_spanning_tree:\n",
    "    print(edge)"
   ]
  }
 ],
 "metadata": {
  "kernelspec": {
   "display_name": "Python 3 (ipykernel)",
   "language": "python",
   "name": "python3"
  },
  "language_info": {
   "codemirror_mode": {
    "name": "ipython",
    "version": 3
   },
   "file_extension": ".py",
   "mimetype": "text/x-python",
   "name": "python",
   "nbconvert_exporter": "python",
   "pygments_lexer": "ipython3",
   "version": "3.11.7"
  }
 },
 "nbformat": 4,
 "nbformat_minor": 5
}
